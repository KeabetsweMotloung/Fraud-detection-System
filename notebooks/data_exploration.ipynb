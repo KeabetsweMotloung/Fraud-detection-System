{
 "cells": [
  {
   "cell_type": "code",
   "execution_count": null,
   "metadata": {},
   "outputs": [
    {
     "ename": "",
     "evalue": "",
     "output_type": "error",
     "traceback": [
      "\u001b[1;31mRunning cells with 'Fraud-detection (Python 3.13.2)' requires the ipykernel package.\n",
      "\u001b[1;31mInstall 'ipykernel' into the Python environment. \n",
      "\u001b[1;31mCommand: 'c:/Users/Vongani/Desktop/Github/Supervised_Learning/Fraud-detection-System/Fraud-detection/Scripts/python.exe -m pip install ipykernel -U --force-reinstall'"
     ]
    }
   ],
   "source": [
    "import pandas as pd\n",
    "import seaborn as sns\n",
    "import matplotlib.pyplot as plt\n",
    "\n",
    "\n",
    "df_sampled = pd.read_csv('app\\data\\creditcard_sampled.csv')\n",
    "\n",
    "# Check the class distribution\n",
    "class_counts = df_sampled['Class'].value_counts()\n",
    "\n",
    "\n",
    "plt.figure(figsize=(8, 4))\n",
    "sns.barplot(x= class_counts.index,y=class_counts.values,palette='viridis' )\n",
    "plt.title('Class Distribution in Sampled Data')\n",
    "plt.xlabel('Class')\n",
    "plt.ylabel('Frequency')\n",
    "plt.xticks([0,1], ['Non-Fraud','Fraud'])\n",
    "plt.show()\n",
    "\n",
    "print(class_counts)"
   ]
  },
  {
   "cell_type": "code",
   "execution_count": null,
   "metadata": {},
   "outputs": [],
   "source": [
    "# Plot histograms for each feature\n",
    "df_sampled.hist(bins=30, figsize=(20, 15))\n",
    "plt.suptitle('Feature Distributions in Sampled Data')\n",
    "plt.show()\n"
   ]
  },
  {
   "cell_type": "code",
   "execution_count": null,
   "metadata": {},
   "outputs": [],
   "source": [
    "print(f'The dataset has {df_sampled.shape[0]} rows and {df_sampled.shape[1]} columns.')\n",
    "\n",
    "df_sampled.info()"
   ]
  },
  {
   "cell_type": "markdown",
   "metadata": {},
   "source": [
    "# Check for missing values\n"
   ]
  },
  {
   "cell_type": "code",
   "execution_count": null,
   "metadata": {},
   "outputs": [],
   "source": [
    "null_values = df_sampled.isnull().sum()\n",
    "print(null_values)"
   ]
  },
  {
   "cell_type": "markdown",
   "metadata": {},
   "source": [
    "# Display basic statistics"
   ]
  },
  {
   "cell_type": "code",
   "execution_count": null,
   "metadata": {},
   "outputs": [],
   "source": [
    "df_sampled.describe()"
   ]
  },
  {
   "cell_type": "code",
   "execution_count": null,
   "metadata": {},
   "outputs": [],
   "source": [
    "# Count the number of instances in each class\n",
    "class_counts = df_sampled['Class'].value_counts()\n",
    "\n",
    "# Plot the class distribution\n",
    "plt.figure(figsize=(8, 4))\n",
    "sns.barplot(x=class_counts.index, y=class_counts.values, palette='viridis')\n",
    "plt.title('Class Distribution')\n",
    "plt.xlabel('Class')\n",
    "plt.ylabel('Frequency')\n",
    "plt.xticks([0, 1], ['Non-Fraud', 'Fraud'])\n",
    "plt.show()\n",
    "\n",
    "# Print the class counts\n",
    "print(class_counts)"
   ]
  },
  {
   "cell_type": "markdown",
   "metadata": {},
   "source": [
    "# Analyze Feature Distributions"
   ]
  },
  {
   "cell_type": "code",
   "execution_count": null,
   "metadata": {},
   "outputs": [],
   "source": [
    "# Plot the distribution of the 'Amount' feature\n",
    "plt.figure(figsize=(10, 6))\n",
    "sns.histplot(df_sampled['Amount'], bins=50, kde=True)\n",
    "plt.title('Distribution of Transaction Amounts')\n",
    "plt.xlabel('Amount')\n",
    "plt.ylabel('Frequency')\n",
    "plt.show()\n",
    "\n"
   ]
  },
  {
   "cell_type": "code",
   "execution_count": null,
   "metadata": {},
   "outputs": [],
   "source": [
    "time_val = df_sampled['Time']\n",
    "\n",
    "# Create subplots\n",
    "fig, ax = plt.subplots(figsize=(9, 4))  # Reduced size since we only have one plot\n",
    "\n",
    "# Plot distribution of transaction time\n",
    "sns.distplot(time_val, ax=ax, color='b')\n",
    "ax.set_title('Distribution of Transaction Time', fontsize=14)\n",
    "ax.set_xlim([min(time_val), max(time_val)])\n",
    "\n",
    "# Show the plot\n",
    "plt.show()"
   ]
  }
 ],
 "metadata": {
  "kernelspec": {
   "display_name": "Fraud-detection",
   "language": "python",
   "name": "python3"
  },
  "language_info": {
   "codemirror_mode": {
    "name": "ipython",
    "version": 3
   },
   "file_extension": ".py",
   "mimetype": "text/x-python",
   "name": "python",
   "nbconvert_exporter": "python",
   "pygments_lexer": "ipython3",
   "version": "3.13.2"
  }
 },
 "nbformat": 4,
 "nbformat_minor": 2
}
